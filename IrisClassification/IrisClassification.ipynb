{
 "cells": [
  {
   "cell_type": "markdown",
   "id": "88a7da9b",
   "metadata": {},
   "source": [
    "# Iris Flower Classification Project"
   ]
  },
  {
   "cell_type": "code",
   "execution_count": null,
   "id": "378b1c12",
   "metadata": {},
   "outputs": [],
   "source": [
    "# Blueprint to be followed:\n",
    "# 1. Import libraries => Will be doing it as we go along\n",
    "# 2. Load the dataset\n",
    "# 3. Preprocessing: drop first column\n",
    "\n",
    "# 4. EDA\n",
    "    # → Histograms\n",
    "    # → Pairplot\n",
    "    # → Covariance matrix\n",
    "\n",
    "# 5. Train-test split (use sklearn's train_test_split instead)\n",
    "\n",
    "# 6. Model 1: Logistic Regression\n",
    "    # → Train\n",
    "    # → Predict\n",
    "    # → Accuracy\n",
    "    # → Confusion matrix\n",
    "\n",
    "# 7. Model 2 (Optional): Try KNN, SVM\n",
    "\n",
    "# 8. Summary or comparison\n",
    "\n",
    "# 9. Conclusion\n"
   ]
  },
  {
   "cell_type": "markdown",
   "id": "0b236f78",
   "metadata": {},
   "source": [
    "## Reading the CSV File & Drop Columns"
   ]
  },
  {
   "cell_type": "code",
   "execution_count": 1,
   "id": "83ec6647",
   "metadata": {},
   "outputs": [
    {
     "data": {
      "text/html": [
       "<div>\n",
       "<style scoped>\n",
       "    .dataframe tbody tr th:only-of-type {\n",
       "        vertical-align: middle;\n",
       "    }\n",
       "\n",
       "    .dataframe tbody tr th {\n",
       "        vertical-align: top;\n",
       "    }\n",
       "\n",
       "    .dataframe thead th {\n",
       "        text-align: right;\n",
       "    }\n",
       "</style>\n",
       "<table border=\"1\" class=\"dataframe\">\n",
       "  <thead>\n",
       "    <tr style=\"text-align: right;\">\n",
       "      <th></th>\n",
       "      <th>SepalLengthCm</th>\n",
       "      <th>SepalWidthCm</th>\n",
       "      <th>PetalLengthCm</th>\n",
       "      <th>PetalWidthCm</th>\n",
       "      <th>Species</th>\n",
       "    </tr>\n",
       "  </thead>\n",
       "  <tbody>\n",
       "    <tr>\n",
       "      <th>0</th>\n",
       "      <td>5.1</td>\n",
       "      <td>3.5</td>\n",
       "      <td>1.4</td>\n",
       "      <td>0.2</td>\n",
       "      <td>Iris-setosa</td>\n",
       "    </tr>\n",
       "    <tr>\n",
       "      <th>1</th>\n",
       "      <td>4.9</td>\n",
       "      <td>3.0</td>\n",
       "      <td>1.4</td>\n",
       "      <td>0.2</td>\n",
       "      <td>Iris-setosa</td>\n",
       "    </tr>\n",
       "    <tr>\n",
       "      <th>2</th>\n",
       "      <td>4.7</td>\n",
       "      <td>3.2</td>\n",
       "      <td>1.3</td>\n",
       "      <td>0.2</td>\n",
       "      <td>Iris-setosa</td>\n",
       "    </tr>\n",
       "    <tr>\n",
       "      <th>3</th>\n",
       "      <td>4.6</td>\n",
       "      <td>3.1</td>\n",
       "      <td>1.5</td>\n",
       "      <td>0.2</td>\n",
       "      <td>Iris-setosa</td>\n",
       "    </tr>\n",
       "    <tr>\n",
       "      <th>4</th>\n",
       "      <td>5.0</td>\n",
       "      <td>3.6</td>\n",
       "      <td>1.4</td>\n",
       "      <td>0.2</td>\n",
       "      <td>Iris-setosa</td>\n",
       "    </tr>\n",
       "  </tbody>\n",
       "</table>\n",
       "</div>"
      ],
      "text/plain": [
       "   SepalLengthCm  SepalWidthCm  PetalLengthCm  PetalWidthCm      Species\n",
       "0            5.1           3.5            1.4           0.2  Iris-setosa\n",
       "1            4.9           3.0            1.4           0.2  Iris-setosa\n",
       "2            4.7           3.2            1.3           0.2  Iris-setosa\n",
       "3            4.6           3.1            1.5           0.2  Iris-setosa\n",
       "4            5.0           3.6            1.4           0.2  Iris-setosa"
      ]
     },
     "execution_count": 1,
     "metadata": {},
     "output_type": "execute_result"
    }
   ],
   "source": [
    "import pandas as pd\n",
    "df = pd.read_csv('Iris.csv')\n",
    "df = df.drop(df.columns[0], axis=1)  # Remove the first column\n",
    "df.head()"
   ]
  },
  {
   "cell_type": "markdown",
   "id": "048b01aa",
   "metadata": {},
   "source": [
    "## EDA(Exploratory Data Analysis)"
   ]
  },
  {
   "cell_type": "markdown",
   "id": "22c01c35",
   "metadata": {},
   "source": [
    "### Histograms"
   ]
  },
  {
   "cell_type": "code",
   "execution_count": null,
   "id": "98cfabd6",
   "metadata": {},
   "outputs": [],
   "source": []
  },
  {
   "cell_type": "markdown",
   "id": "396450a7",
   "metadata": {},
   "source": [
    "### PairPlot"
   ]
  },
  {
   "cell_type": "markdown",
   "id": "e781a767",
   "metadata": {},
   "source": [
    "### Covariance Matrix"
   ]
  },
  {
   "cell_type": "markdown",
   "id": "9a3ddc72",
   "metadata": {},
   "source": [
    "## Splitting the data into Train and Test"
   ]
  },
  {
   "cell_type": "code",
   "execution_count": 2,
   "id": "df235ae9",
   "metadata": {},
   "outputs": [],
   "source": [
    "# Training data: first 40 rows (0–39) and rows 50–89 (50–89)\n",
    "train_df = pd.concat([df.iloc[0:40], df.iloc[50:90]], ignore_index=True)\n",
    "\n",
    "# Test data: rows 40–49 (10 rows) and rows 90–119 (30 rows)\n",
    "test_df = pd.concat([df.iloc[40:50], df.iloc[90:100]], ignore_index=True)\n"
   ]
  },
  {
   "cell_type": "markdown",
   "id": "726c6704",
   "metadata": {},
   "source": [
    "## Model 1: Logistic Regression"
   ]
  },
  {
   "cell_type": "code",
   "execution_count": null,
   "id": "3bd6f20b",
   "metadata": {},
   "outputs": [
    {
     "name": "stdout",
     "output_type": "stream",
     "text": [
      "Theta (coefficients): [[ 0.46658794 -0.78047597  2.18189051  0.8804814 ]]\n",
      "Intercept: [-6.86848547]\n"
     ]
    }
   ],
   "source": [
    "from sklearn.linear_model import LogisticRegression\n",
    "\n",
    "# Separate features and target\n",
    "X_train = train_df.iloc[:, :-1]  # All columns except the last\n",
    "y_train = train_df.iloc[:, -1]   # Last column as target\n",
    "\n",
    "# Create and fit the logistic regression model\n",
    "model = LogisticRegression(max_iter=200)\n",
    "model.fit(X_train, y_train)\n",
    "\n",
    "# Get parameters (theta)\n",
    "theta = model.coef_\n",
    "intercept = model.intercept_"
   ]
  },
  {
   "cell_type": "markdown",
   "id": "78ecf299",
   "metadata": {},
   "source": [
    "### Testing The Dataset"
   ]
  },
  {
   "cell_type": "code",
   "execution_count": 8,
   "id": "11c64e82",
   "metadata": {},
   "outputs": [
    {
     "name": "stdout",
     "output_type": "stream",
     "text": [
      "Number of mismatches: 0\n",
      "          Predicted           Actual\n",
      "0       Iris-setosa      Iris-setosa\n",
      "1       Iris-setosa      Iris-setosa\n",
      "2       Iris-setosa      Iris-setosa\n",
      "3       Iris-setosa      Iris-setosa\n",
      "4       Iris-setosa      Iris-setosa\n",
      "5       Iris-setosa      Iris-setosa\n",
      "6       Iris-setosa      Iris-setosa\n",
      "7       Iris-setosa      Iris-setosa\n",
      "8       Iris-setosa      Iris-setosa\n",
      "9       Iris-setosa      Iris-setosa\n",
      "10  Iris-versicolor  Iris-versicolor\n",
      "11  Iris-versicolor  Iris-versicolor\n",
      "12  Iris-versicolor  Iris-versicolor\n",
      "13  Iris-versicolor  Iris-versicolor\n",
      "14  Iris-versicolor  Iris-versicolor\n",
      "15  Iris-versicolor  Iris-versicolor\n",
      "16  Iris-versicolor  Iris-versicolor\n",
      "17  Iris-versicolor  Iris-versicolor\n",
      "18  Iris-versicolor  Iris-versicolor\n",
      "19  Iris-versicolor  Iris-versicolor\n"
     ]
    }
   ],
   "source": [
    "# Separate features and actual labels from test_df\n",
    "X_test = test_df.iloc[:, :-1]\n",
    "y_test = test_df.iloc[:, -1]\n",
    "\n",
    "# Predict labels using the trained model\n",
    "y_pred = model.predict(X_test)\n",
    "\n",
    "# Create a DataFrame with predicted and actual labels\n",
    "predictions_table = pd.DataFrame({\n",
    "    'Predicted': y_pred,\n",
    "    'Actual': y_test.values  # Ensure alignment\n",
    "})\n",
    "\n",
    "# Count the number of mismatches\n",
    "num_mismatches = (predictions_table['Predicted'] != predictions_table['Actual']).sum()\n",
    "print(f\"Number of mismatches: {num_mismatches}\")\n",
    "print(predictions_table)"
   ]
  },
  {
   "cell_type": "markdown",
   "id": "74a6d129",
   "metadata": {},
   "source": [
    "### Testing Model Accuracy"
   ]
  },
  {
   "cell_type": "code",
   "execution_count": 7,
   "id": "0a440d86",
   "metadata": {},
   "outputs": [
    {
     "name": "stdout",
     "output_type": "stream",
     "text": [
      "Test Accuracy: 1.00\n"
     ]
    }
   ],
   "source": [
    "from sklearn.metrics import accuracy_score\n",
    "\n",
    "accuracy = accuracy_score(y_test, y_pred)\n",
    "print(f\"Test Accuracy: {accuracy:.2f}\")"
   ]
  }
 ],
 "metadata": {
  "kernelspec": {
   "display_name": ".venv",
   "language": "python",
   "name": "python3"
  },
  "language_info": {
   "codemirror_mode": {
    "name": "ipython",
    "version": 3
   },
   "file_extension": ".py",
   "mimetype": "text/x-python",
   "name": "python",
   "nbconvert_exporter": "python",
   "pygments_lexer": "ipython3",
   "version": "3.11.9"
  }
 },
 "nbformat": 4,
 "nbformat_minor": 5
}
